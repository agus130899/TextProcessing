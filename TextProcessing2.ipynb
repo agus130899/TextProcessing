{
  "nbformat": 4,
  "nbformat_minor": 0,
  "metadata": {
    "colab": {
      "name": "TextProcessing2.ipynb",
      "provenance": []
    },
    "kernelspec": {
      "name": "python3",
      "display_name": "Python 3"
    },
    "language_info": {
      "name": "python"
    }
  },
  "cells": [
    {
      "cell_type": "code",
      "execution_count": 4,
      "metadata": {
        "colab": {
          "base_uri": "https://localhost:8080/"
        },
        "id": "O5ZR3yCNfBta",
        "outputId": "83a85cbd-2e11-494c-b565-a815346b767c"
      },
      "outputs": [
        {
          "output_type": "execute_result",
          "data": {
            "text/plain": [
              "['The more I know, the more I know what I don’t know mentality is crucial for life-long learning.',\n",
              " '100 dollars from someone who earns 50,000 a year, or 100,000 from someone with 50 million in the bank?',\n",
              " 'Of this, nearly a third was given in increments under 50,000 dollars.']"
            ]
          },
          "metadata": {},
          "execution_count": 4
        }
      ],
      "source": [
        "corpus = [\n",
        "          'The more I know, the more I know what I don’t know mentality is crucial for life-long learning.',\n",
        "          '100 dollars from someone who earns 50,000 a year, or 100,000 from someone with 50 million in the bank?',\n",
        "          'Of this, nearly a third was given in increments under 50,000 dollars.'\n",
        "  ]\n",
        "corpus"
      ]
    },
    {
      "cell_type": "code",
      "source": [
        "from sklearn.feature_extraction.text import CountVectorizer\n",
        "\n",
        "vectorizer = CountVectorizer()\n",
        "vectorizer_X = vectorizer.fit_transform(corpus).todense()\n",
        "vectorizer_X"
      ],
      "metadata": {
        "colab": {
          "base_uri": "https://localhost:8080/"
        },
        "id": "ISK11DEvg0Bd",
        "outputId": "e447b618-4fe4-4c82-ed74-75682eeb6555"
      },
      "execution_count": 5,
      "outputs": [
        {
          "output_type": "execute_result",
          "data": {
            "text/plain": [
              "matrix([[0, 0, 0, 0, 1, 0, 1, 0, 1, 0, 0, 0, 0, 1, 3, 1, 1, 1, 1, 0, 2,\n",
              "         0, 0, 0, 0, 2, 0, 0, 0, 0, 1, 0, 0, 0],\n",
              "        [2, 2, 2, 1, 0, 1, 0, 1, 0, 2, 0, 1, 0, 0, 0, 0, 0, 0, 0, 1, 0,\n",
              "         0, 0, 1, 2, 1, 0, 0, 0, 0, 0, 1, 1, 1],\n",
              "        [1, 0, 1, 0, 0, 1, 0, 0, 0, 0, 1, 1, 1, 0, 0, 0, 0, 0, 0, 0, 0,\n",
              "         1, 1, 0, 0, 0, 1, 1, 1, 1, 0, 0, 0, 0]])"
            ]
          },
          "metadata": {},
          "execution_count": 5
        }
      ]
    },
    {
      "cell_type": "code",
      "source": [
        "vectorizer.get_feature_names()"
      ],
      "metadata": {
        "colab": {
          "base_uri": "https://localhost:8080/"
        },
        "id": "OJNDN-fahXTY",
        "outputId": "0796e5f1-30a2-41c6-e02e-f1256e051a6d"
      },
      "execution_count": 6,
      "outputs": [
        {
          "output_type": "stream",
          "name": "stderr",
          "text": [
            "/usr/local/lib/python3.7/dist-packages/sklearn/utils/deprecation.py:87: FutureWarning: Function get_feature_names is deprecated; get_feature_names is deprecated in 1.0 and will be removed in 1.2. Please use get_feature_names_out instead.\n",
            "  warnings.warn(msg, category=FutureWarning)\n"
          ]
        },
        {
          "output_type": "execute_result",
          "data": {
            "text/plain": [
              "['000',\n",
              " '100',\n",
              " '50',\n",
              " 'bank',\n",
              " 'crucial',\n",
              " 'dollars',\n",
              " 'don',\n",
              " 'earns',\n",
              " 'for',\n",
              " 'from',\n",
              " 'given',\n",
              " 'in',\n",
              " 'increments',\n",
              " 'is',\n",
              " 'know',\n",
              " 'learning',\n",
              " 'life',\n",
              " 'long',\n",
              " 'mentality',\n",
              " 'million',\n",
              " 'more',\n",
              " 'nearly',\n",
              " 'of',\n",
              " 'or',\n",
              " 'someone',\n",
              " 'the',\n",
              " 'third',\n",
              " 'this',\n",
              " 'under',\n",
              " 'was',\n",
              " 'what',\n",
              " 'who',\n",
              " 'with',\n",
              " 'year']"
            ]
          },
          "metadata": {},
          "execution_count": 6
        }
      ]
    },
    {
      "cell_type": "code",
      "source": [
        "from sklearn.metrics.pairwise import euclidean_distances\n",
        "\n",
        "for i in range(len(vectorizer_X)):\n",
        "  for j in range(i, len (vectorizer_X)):\n",
        "    if i == j:\n",
        "      continue\n",
        "      jarak = euclidean_distances(vectorizer_X[i], vectorizer_X[j])\n",
        "      print(f'Jarak dokumen {i+1} dan {j+1}: {jarak}')"
      ],
      "metadata": {
        "id": "BgkEeIgmhroa"
      },
      "execution_count": 8,
      "outputs": []
    },
    {
      "cell_type": "code",
      "source": [
        "from sklearn.feature_extraction.text import CountVectorizer\n",
        "\n",
        "vectorizer = CountVectorizer(stop_words='english')\n",
        "vectorizer_X = vectorizer.fit_transform(corpus).todense()\n",
        "vectorizer_X"
      ],
      "metadata": {
        "colab": {
          "base_uri": "https://localhost:8080/"
        },
        "id": "e4eu7uh9ic1G",
        "outputId": "c70139d9-9ef2-4918-ba3f-3802a3fb07b9"
      },
      "execution_count": 12,
      "outputs": [
        {
          "output_type": "execute_result",
          "data": {
            "text/plain": [
              "matrix([[0, 0, 0, 0, 1, 0, 1, 0, 0, 0, 3, 1, 1, 1, 1, 0, 0, 0],\n",
              "        [2, 2, 2, 1, 0, 1, 0, 1, 0, 0, 0, 0, 0, 0, 0, 1, 0, 1],\n",
              "        [1, 0, 1, 0, 0, 1, 0, 0, 1, 1, 0, 0, 0, 0, 0, 0, 1, 0]])"
            ]
          },
          "metadata": {},
          "execution_count": 12
        }
      ]
    },
    {
      "cell_type": "code",
      "source": [
        "vectorizer.get_feature_names()"
      ],
      "metadata": {
        "colab": {
          "base_uri": "https://localhost:8080/"
        },
        "id": "EICVtAzUjWy3",
        "outputId": "9f19b284-1a58-4582-9317-16b4ae28fbfa"
      },
      "execution_count": 13,
      "outputs": [
        {
          "output_type": "stream",
          "name": "stderr",
          "text": [
            "/usr/local/lib/python3.7/dist-packages/sklearn/utils/deprecation.py:87: FutureWarning: Function get_feature_names is deprecated; get_feature_names is deprecated in 1.0 and will be removed in 1.2. Please use get_feature_names_out instead.\n",
            "  warnings.warn(msg, category=FutureWarning)\n"
          ]
        },
        {
          "output_type": "execute_result",
          "data": {
            "text/plain": [
              "['000',\n",
              " '100',\n",
              " '50',\n",
              " 'bank',\n",
              " 'crucial',\n",
              " 'dollars',\n",
              " 'don',\n",
              " 'earns',\n",
              " 'given',\n",
              " 'increments',\n",
              " 'know',\n",
              " 'learning',\n",
              " 'life',\n",
              " 'long',\n",
              " 'mentality',\n",
              " 'million',\n",
              " 'nearly',\n",
              " 'year']"
            ]
          },
          "metadata": {},
          "execution_count": 13
        }
      ]
    },
    {
      "cell_type": "code",
      "source": [
        ""
      ],
      "metadata": {
        "id": "4ZaUejLdjos1"
      },
      "execution_count": null,
      "outputs": []
    }
  ]
}